{
  "nbformat": 4,
  "nbformat_minor": 0,
  "metadata": {
    "colab": {
      "provenance": []
    },
    "kernelspec": {
      "name": "python3",
      "display_name": "Python 3"
    },
    "language_info": {
      "name": "python"
    }
  },
  "cells": [
    {
      "cell_type": "code",
      "execution_count": null,
      "metadata": {
        "colab": {
          "base_uri": "https://localhost:8080/"
        },
        "id": "J06kTF0QYAdL",
        "outputId": "7b930e48-fb67-4708-9c88-f8477f78ca10"
      },
      "outputs": [
        {
          "output_type": "stream",
          "name": "stdout",
          "text": [
            "total vowels is : 1\n",
            "total vowels is : 2\n",
            "total vowels is : 3\n",
            "total vowels is : 4\n",
            "total vowels is : 5\n",
            "total vowels is : 6\n",
            "total vowels is : 7\n",
            "total vowels is : 8\n"
          ]
        }
      ],
      "source": [
        "sentense = \"pyhon programing language\"\n",
        "count = 0\n",
        "for ch in sentense :\n",
        "  if ch in \"aeiou\" :\n",
        "    count +=1\n",
        "    print (\"total vowels is :\",count)"
      ]
    },
    {
      "cell_type": "code",
      "source": [
        "base = 4\n",
        "height =5\n",
        "triangle =0.5 *base*height\n",
        "print (\"area of triangle is :\",triangle)"
      ],
      "metadata": {
        "colab": {
          "base_uri": "https://localhost:8080/"
        },
        "id": "Rx1YowPDci3d",
        "outputId": "0c035fca-c90c-48b8-aecb-400bff674a40"
      },
      "execution_count": null,
      "outputs": [
        {
          "output_type": "stream",
          "name": "stdout",
          "text": [
            "area of triangle is : 10.0\n"
          ]
        }
      ]
    },
    {
      "cell_type": "code",
      "source": [
        "red =4\n",
        "area = 3.14 *red**2\n",
        "print (\"area of circle is :\",area)"
      ],
      "metadata": {
        "colab": {
          "base_uri": "https://localhost:8080/"
        },
        "id": "g5T7dRu6eOXD",
        "outputId": "cd93ad26-756f-4d4b-bc25-1ee1f01860c3"
      },
      "execution_count": null,
      "outputs": [
        {
          "output_type": "stream",
          "name": "stdout",
          "text": [
            "area of circle is : 50.24\n"
          ]
        }
      ]
    },
    {
      "cell_type": "code",
      "source": [
        "exmaple =[5,25,35,28 ,45,10,15]\n",
        "print (max(exmaple))"
      ],
      "metadata": {
        "colab": {
          "base_uri": "https://localhost:8080/"
        },
        "id": "wSlOoh2Ce6qQ",
        "outputId": "a50b3307-db53-4d13-bd5b-38dee45db37e"
      },
      "execution_count": null,
      "outputs": [
        {
          "output_type": "stream",
          "name": "stdout",
          "text": [
            "45\n"
          ]
        }
      ]
    },
    {
      "cell_type": "code",
      "source": [
        "number = [5,25,7,99,56]\n",
        "print (max(number))"
      ],
      "metadata": {
        "colab": {
          "base_uri": "https://localhost:8080/"
        },
        "id": "YJXVQ6qPgXmv",
        "outputId": "5518cb45-de0b-44e0-8875-9ce4c8bc052d"
      },
      "execution_count": null,
      "outputs": [
        {
          "output_type": "stream",
          "name": "stdout",
          "text": [
            "99\n"
          ]
        }
      ]
    },
    {
      "cell_type": "code",
      "source": [
        "numbers = [10, 25, 7, 99, 56]\n",
        "lar = numbers[0]\n",
        "for i in numbers :\n",
        "  if i > lar :\n",
        "    lar = i\n",
        "print(lar,\"is a largest number in this list\")"
      ],
      "metadata": {
        "colab": {
          "base_uri": "https://localhost:8080/"
        },
        "id": "9NuOnyF6i8Ra",
        "outputId": "fbe8ff9d-c3cd-458f-f7b4-a7c7a2d1abbe"
      },
      "execution_count": null,
      "outputs": [
        {
          "output_type": "stream",
          "name": "stdout",
          "text": [
            "99 is a largest number in this list\n"
          ]
        }
      ]
    },
    {
      "cell_type": "code",
      "source": [
        "sentense = \"bachelor of computer science first semester section c\"\n",
        "count = 0\n",
        "for ch in sentense:\n",
        "  if ch not in \"aeiou\":\n",
        "    count +=1\n",
        "print(\"total consonents is :\",count)"
      ],
      "metadata": {
        "colab": {
          "base_uri": "https://localhost:8080/"
        },
        "id": "PyqhdJkpkS3H",
        "outputId": "1af7ea48-e740-4c25-e496-8cc930007256"
      },
      "execution_count": null,
      "outputs": [
        {
          "output_type": "stream",
          "name": "stdout",
          "text": [
            "total consonents is : 36\n"
          ]
        }
      ]
    },
    {
      "cell_type": "code",
      "source": [
        "fruits =(\"apple\",\"banana\",\"cherry\",\"mango\",\"orange\",\"greeps\",\"banna\",\"pinaple\",\"pappaya\",\"watter melon\" )\n",
        "for fruit in fruits:\n",
        "  if fruit ==\"greeps\":\n",
        "    continue\n",
        "  print(fruit)"
      ],
      "metadata": {
        "id": "BjpGAsOS4QGI",
        "colab": {
          "base_uri": "https://localhost:8080/"
        },
        "outputId": "09aeeeef-d759-428b-e3ff-c7695d93c111"
      },
      "execution_count": null,
      "outputs": [
        {
          "output_type": "stream",
          "name": "stdout",
          "text": [
            "apple\n",
            "banana\n",
            "cherry\n",
            "mango\n",
            "orange\n",
            "banna\n",
            "pinaple\n",
            "pappaya\n",
            "watter melon\n"
          ]
        }
      ]
    },
    {
      "cell_type": "code",
      "source": [
        "mobiles = [\"vivo\",\"redmi\",\"oppo\",\"vivo\",\"vivo\",\"vivo\",\"oppo\",\"IQee\",\"vivo\",\"1 plus\"]\n",
        "for mobile in mobiles:\n",
        "  if mobile ==\"vivo\":\n",
        "    continue\n",
        "  print(mobile)"
      ],
      "metadata": {
        "colab": {
          "base_uri": "https://localhost:8080/"
        },
        "id": "Bkx0k4qB-Di3",
        "outputId": "3bd5f1b6-c593-4c91-d206-67d798ed974f"
      },
      "execution_count": null,
      "outputs": [
        {
          "output_type": "stream",
          "name": "stdout",
          "text": [
            "redmi\n",
            "oppo\n",
            "oppo\n",
            "IQee\n",
            "1 plus\n"
          ]
        }
      ]
    },
    {
      "cell_type": "code",
      "source": [
        "Movies = [\"KGF\",\"Chhava\",\"bahulbali\",\"saiyara\",\"RRR\",\"kalkli\",\"kannadakagi onendonn\"]\n",
        "for movie in Movies:\n",
        "  if movie ==\"kalkli\":\n",
        "    continue\n",
        "  print(movie)"
      ],
      "metadata": {
        "id": "rEuqcvfC_jjI",
        "colab": {
          "base_uri": "https://localhost:8080/"
        },
        "outputId": "7ac18709-fd04-45e4-ff0e-1d6d974fc765"
      },
      "execution_count": null,
      "outputs": [
        {
          "output_type": "stream",
          "name": "stdout",
          "text": [
            "KGF\n",
            "Chhava\n",
            "bahulbali\n",
            "saiyara\n",
            "RRR\n",
            "kannadakagi onendonn\n"
          ]
        }
      ]
    },
    {
      "cell_type": "code",
      "source": [
        "thing = {\"mobile\",\"Laptop\",\"moninter\", \"tab\",\"book\",\"pen\"}\n",
        "for things in thing:\n",
        "  if things ==\"pen\":\n",
        "    continue\n",
        "  print(things)"
      ],
      "metadata": {
        "colab": {
          "base_uri": "https://localhost:8080/"
        },
        "id": "Wx3gYo9XDxAf",
        "outputId": "14ee55c6-d4d7-4285-9e52-db2f7a256896"
      },
      "execution_count": null,
      "outputs": [
        {
          "output_type": "stream",
          "name": "stdout",
          "text": [
            "book\n",
            "moninter\n",
            "tab\n",
            "Laptop\n",
            "mobile\n"
          ]
        }
      ]
    },
    {
      "cell_type": "code",
      "source": [
        "for i in range (1,10):\n",
        "  for j in range (j):\n",
        "    print(j,end=\" \")\n",
        "  print()"
      ],
      "metadata": {
        "colab": {
          "base_uri": "https://localhost:8080/"
        },
        "id": "FXy6FI1TFH0Z",
        "outputId": "53e4985b-fcf3-475d-bf87-51e16d6e66ba"
      },
      "execution_count": null,
      "outputs": [
        {
          "output_type": "stream",
          "name": "stdout",
          "text": [
            "0 1 2 3 4 5 6 7 \n",
            "0 1 2 3 4 5 6 \n",
            "0 1 2 3 4 5 \n",
            "0 1 2 3 4 \n",
            "0 1 2 3 \n",
            "0 1 2 \n",
            "0 1 \n",
            "0 \n",
            "\n"
          ]
        }
      ]
    },
    {
      "cell_type": "code",
      "source": [
        "for i in range (5):\n",
        "  for j in range (i+1):\n",
        "    print(\"*\",end=\" \")\n",
        "  print()"
      ],
      "metadata": {
        "id": "mHMZLKL2JlhJ",
        "colab": {
          "base_uri": "https://localhost:8080/"
        },
        "outputId": "fde7ea0c-f54e-41ff-d5a2-4914fcc6009e"
      },
      "execution_count": 57,
      "outputs": [
        {
          "output_type": "stream",
          "name": "stdout",
          "text": [
            "* \n",
            "* * \n",
            "* * * \n",
            "* * * * \n",
            "* * * * * \n"
          ]
        }
      ]
    },
    {
      "cell_type": "code",
      "source": [
        "for i in range (5):\n",
        "  for j in range (i+1):\n",
        "    print(\" \",end = \" \")\n",
        "  for k in range (5-i):\n",
        "    print(\"*\",end=\" \")\n",
        "  print()"
      ],
      "metadata": {
        "id": "TMWoqYtyJAVi",
        "colab": {
          "base_uri": "https://localhost:8080/"
        },
        "outputId": "a8b820c3-fa15-4068-b819-6e6ac00ee29b"
      },
      "execution_count": 59,
      "outputs": [
        {
          "output_type": "stream",
          "name": "stdout",
          "text": [
            "  * * * * * \n",
            "    * * * * \n",
            "      * * * \n",
            "        * * \n",
            "          * \n"
          ]
        }
      ]
    },
    {
      "cell_type": "code",
      "source": [
        "for i in range(8):\n",
        "  for j in range(0,i+1):\n",
        "    print(\" \",end=\" \")\n",
        "  for j in range(8):\n",
        "    print(\"*\",end=\" \")\n",
        "  print()"
      ],
      "metadata": {
        "colab": {
          "base_uri": "https://localhost:8080/"
        },
        "id": "1fmqHekwa8YL",
        "outputId": "860f15cf-a96c-4ac1-9cb6-7c46784cf211"
      },
      "execution_count": 64,
      "outputs": [
        {
          "output_type": "stream",
          "name": "stdout",
          "text": [
            "  * * * * * * * * \n",
            "    * * * * * * * * \n",
            "      * * * * * * * * \n",
            "        * * * * * * * * \n",
            "          * * * * * * * * \n",
            "            * * * * * * * * \n",
            "              * * * * * * * * \n",
            "                * * * * * * * * \n"
          ]
        }
      ]
    },
    {
      "cell_type": "code",
      "source": [
        "for i in range(5):\n",
        "  for j in range(i+1,5):\n",
        "    print(\" \",end=\" \")\n",
        "  for j in range(5):\n",
        "    print(\"*\",end=\" \")\n",
        "  print()"
      ],
      "metadata": {
        "colab": {
          "base_uri": "https://localhost:8080/"
        },
        "id": "gXQfn-uYeYfs",
        "outputId": "5e420858-38ce-4445-9937-2ca23b324eda"
      },
      "execution_count": 67,
      "outputs": [
        {
          "output_type": "stream",
          "name": "stdout",
          "text": [
            "        * * * * * \n",
            "      * * * * * \n",
            "    * * * * * \n",
            "  * * * * * \n",
            "* * * * * \n"
          ]
        }
      ]
    },
    {
      "cell_type": "code",
      "source": [
        "row = 5\n",
        "col = 5\n",
        "for i in range(0,row):\n",
        "  for j in range(0,col):\n",
        "    if i ==0 or i ==row-1 or j==0 or j==col-1:\n",
        "      print(\"*\",end=\" \")\n",
        "    else:\n",
        "      print(\" \",end=\" \")\n",
        "  print()"
      ],
      "metadata": {
        "colab": {
          "base_uri": "https://localhost:8080/"
        },
        "id": "zYRrU0n0ezu7",
        "outputId": "d9298057-4222-4c71-a301-a054f772e97d"
      },
      "execution_count": 74,
      "outputs": [
        {
          "output_type": "stream",
          "name": "stdout",
          "text": [
            "* * * * * \n",
            "*       * \n",
            "*       * \n",
            "*       * \n",
            "* * * * * \n"
          ]
        }
      ]
    },
    {
      "cell_type": "code",
      "source": [
        "for i in range(10):\n",
        "  for j in range(i+1):\n",
        "    print(\"*\", end=\"\")\n",
        "  print()"
      ],
      "metadata": {
        "colab": {
          "base_uri": "https://localhost:8080/"
        },
        "id": "78l2RC7jjDAs",
        "outputId": "88fb592e-c84f-4339-dc46-86586302fa1e"
      },
      "execution_count": 76,
      "outputs": [
        {
          "output_type": "stream",
          "name": "stdout",
          "text": [
            "*\n",
            "**\n",
            "***\n",
            "****\n",
            "*****\n",
            "******\n",
            "*******\n",
            "********\n",
            "*********\n",
            "**********\n"
          ]
        }
      ]
    },
    {
      "cell_type": "code",
      "source": [
        "num = 7\n",
        "for i in range(0, num):\n",
        "    for j in range(0, num - i - 1):\n",
        "        print(end=\" \")\n",
        "    for j in range(0, i + 1):\n",
        "        print(\"*\", end=\" \")\n",
        "for i in range(num - 1, 0, -1):\n",
        "    for j in range(0, num - i):\n",
        "        print(end=\" \")\n",
        "    for j in range(0, i):\n",
        "        print(\"*\", end=\" \")\n",
        "    print()"
      ],
      "metadata": {
        "colab": {
          "base_uri": "https://localhost:8080/"
        },
        "id": "uJzkm1KajezU",
        "outputId": "045ddb22-2ecc-4c30-f5de-0e8eba5427b0"
      },
      "execution_count": 78,
      "outputs": [
        {
          "output_type": "stream",
          "name": "stdout",
          "text": [
            "      * \n",
            "     * * \n",
            "    * * * \n",
            "   * * * * \n",
            "  * * * * * \n",
            " * * * * * * \n",
            "* * * * * * * \n",
            " * * * * * * \n",
            "  * * * * * \n",
            "   * * * * \n",
            "    * * * \n",
            "     * * \n",
            "      * \n"
          ]
        }
      ]
    },
    {
      "cell_type": "code",
      "source": [
        "num = 7\n",
        "for i in range(0,num):\n",
        "  for j in range(0,num-i-1):\n",
        "    print(\" \",end =\" \")\n",
        "  for j in range (0,i*2+1):\n",
        "      print(chr(65+j),end=\" \")\n",
        "  print()\n",
        ""
      ],
      "metadata": {
        "colab": {
          "base_uri": "https://localhost:8080/"
        },
        "id": "twO9IfhOk_Zk",
        "outputId": "3828acf0-a8a3-4e7b-f1d5-bbc2505b69d7"
      },
      "execution_count": 82,
      "outputs": [
        {
          "output_type": "stream",
          "name": "stdout",
          "text": [
            "            A \n",
            "          A B C \n",
            "        A B C D E \n",
            "      A B C D E F G \n",
            "    A B C D E F G H I \n",
            "  A B C D E F G H I J K \n",
            "A B C D E F G H I J K L M \n"
          ]
        }
      ]
    },
    {
      "cell_type": "code",
      "source": [
        "num = 7\n",
        "for i in range(0,num):\n",
        "  for j in range(0,num-i-1):\n",
        "    print(\" \",end=\" \")\n",
        "  for j in range(0,i*2+1):\n",
        "    print(\"@\",end=\" \")\n",
        "  print()"
      ],
      "metadata": {
        "colab": {
          "base_uri": "https://localhost:8080/"
        },
        "id": "1BIpG8WkpIGN",
        "outputId": "1f684678-9f09-4409-82e4-cd22be3f7b55"
      },
      "execution_count": 84,
      "outputs": [
        {
          "output_type": "stream",
          "name": "stdout",
          "text": [
            "            @ \n",
            "          @ @ @ \n",
            "        @ @ @ @ @ \n",
            "      @ @ @ @ @ @ @ \n",
            "    @ @ @ @ @ @ @ @ @ \n",
            "  @ @ @ @ @ @ @ @ @ @ @ \n",
            "@ @ @ @ @ @ @ @ @ @ @ @ @ \n"
          ]
        }
      ]
    },
    {
      "cell_type": "code",
      "source": [
        "# 1) example\n",
        "def example():\n",
        "  print(\"good afternoon\")\n",
        "example()"
      ],
      "metadata": {
        "colab": {
          "base_uri": "https://localhost:8080/"
        },
        "id": "bhiaTXJ5u9r8",
        "outputId": "8d8d4d77-7e64-4b53-f429-78090dd7818a"
      },
      "execution_count": 87,
      "outputs": [
        {
          "output_type": "stream",
          "name": "stdout",
          "text": [
            "good afternoon\n"
          ]
        }
      ]
    },
    {
      "cell_type": "code",
      "source": [
        "# 2) example\n",
        "def fun(num):\n",
        "  return num*num\n",
        "fun(4)"
      ],
      "metadata": {
        "colab": {
          "base_uri": "https://localhost:8080/"
        },
        "id": "DREZITurntQe",
        "outputId": "0ea9f546-abac-4a31-c7e0-f86dbfaa74f9"
      },
      "execution_count": 90,
      "outputs": [
        {
          "output_type": "execute_result",
          "data": {
            "text/plain": [
              "16"
            ]
          },
          "metadata": {},
          "execution_count": 90
        }
      ]
    },
    {
      "cell_type": "code",
      "source": [
        "def add(a,b):\n",
        "  print(f'addition of two number is {a+b}')\n",
        "add(5,10)"
      ],
      "metadata": {
        "colab": {
          "base_uri": "https://localhost:8080/"
        },
        "id": "YNgB1RPBw8aO",
        "outputId": "f2d0b390-680e-495e-ef80-5362a25d4552"
      },
      "execution_count": 92,
      "outputs": [
        {
          "output_type": "stream",
          "name": "stdout",
          "text": [
            "addition of two number is 15\n"
          ]
        }
      ]
    },
    {
      "cell_type": "code",
      "source": [
        ""
      ],
      "metadata": {
        "id": "P5T_zIygxhyt"
      },
      "execution_count": null,
      "outputs": []
    }
  ]
}