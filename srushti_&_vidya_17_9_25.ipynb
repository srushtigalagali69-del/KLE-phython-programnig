{
  "nbformat": 4,
  "nbformat_minor": 0,
  "metadata": {
    "colab": {
      "provenance": []
    },
    "kernelspec": {
      "name": "python3",
      "display_name": "Python 3"
    },
    "language_info": {
      "name": "python"
    }
  },
  "cells": [
    {
      "cell_type": "code",
      "execution_count": null,
      "metadata": {
        "colab": {
          "base_uri": "https://localhost:8080/"
        },
        "id": "IKY0sSAnfYoX",
        "outputId": "6a40a51b-8245-4ac5-a088-beefb606977f"
      },
      "outputs": [
        {
          "name": "stdout",
          "output_type": "stream",
          "text": [
            "enter a number value7\n"
          ]
        },
        {
          "output_type": "stream",
          "name": "stderr",
          "text": [
            "\n",
            "KeyboardInterrupt\n",
            "\n"
          ]
        }
      ],
      "source": [
        "num = int(input(\"enter a number value\"))\n",
        "count = 0\n",
        "i = 1\n",
        "while i <= num :\n",
        "  if num % i == 0 :\n",
        "    count+=1\n",
        "    i+=1\n",
        "if count == 2 :\n",
        "  print(\"prime number\")\n",
        "else:\n",
        "  print(\"not prime number\")"
      ]
    },
    {
      "cell_type": "code",
      "source": [
        "colours =['blue','red','pink','black']\n",
        "print(type(colours))\n",
        "for i in colours:\n",
        "  print (i)"
      ],
      "metadata": {
        "id": "Mnr30GSczEsb",
        "colab": {
          "base_uri": "https://localhost:8080/"
        },
        "outputId": "bbe45461-546d-476a-e809-b3bca4207c5c"
      },
      "execution_count": null,
      "outputs": [
        {
          "output_type": "stream",
          "name": "stdout",
          "text": [
            "<class 'list'>\n",
            "blue\n",
            "red\n",
            "pink\n",
            "black\n"
          ]
        }
      ]
    },
    {
      "cell_type": "code",
      "source": [
        "number ={1,2,3,4,5,6,7,8,9,}\n",
        "for i in number:\n",
        "  print(i)"
      ],
      "metadata": {
        "colab": {
          "base_uri": "https://localhost:8080/"
        },
        "id": "-H5cso9J4S4e",
        "outputId": "66660f16-f5e1-4566-9461-6b209c1deef5"
      },
      "execution_count": null,
      "outputs": [
        {
          "output_type": "stream",
          "name": "stdout",
          "text": [
            "1\n",
            "2\n",
            "3\n",
            "4\n",
            "5\n",
            "6\n",
            "7\n",
            "8\n",
            "9\n"
          ]
        }
      ]
    },
    {
      "cell_type": "code",
      "source": [
        "name = \"\"\"KLE BK BCA college in chikodi\"\"\"\n",
        "rev = \"\"\n",
        "for i in name:\n",
        "  rev = i + rev\n",
        "print(rev)"
      ],
      "metadata": {
        "colab": {
          "base_uri": "https://localhost:8080/"
        },
        "id": "CTpxOV5i5n0G",
        "outputId": "1c382d95-bc3f-4fb8-bb1b-fcee43845e77"
      },
      "execution_count": null,
      "outputs": [
        {
          "output_type": "stream",
          "name": "stdout",
          "text": [
            "idokihc ni egelloc ACB KB ELK\n"
          ]
        }
      ]
    },
    {
      "cell_type": "code",
      "source": [
        " for i in range (10):\n",
        "  print (i)"
      ],
      "metadata": {
        "colab": {
          "base_uri": "https://localhost:8080/"
        },
        "id": "oryXenCF6hMe",
        "outputId": "96e43d0d-9c89-4ed8-a638-2553eccb4077"
      },
      "execution_count": null,
      "outputs": [
        {
          "output_type": "stream",
          "name": "stdout",
          "text": [
            "0\n",
            "1\n",
            "2\n",
            "3\n",
            "4\n",
            "5\n",
            "6\n",
            "7\n",
            "8\n",
            "9\n"
          ]
        }
      ]
    },
    {
      "cell_type": "code",
      "source": [
        "for  i in range (1,10+1):\n",
        "  print(i)"
      ],
      "metadata": {
        "colab": {
          "base_uri": "https://localhost:8080/"
        },
        "id": "n3lXWCD9EDDP",
        "outputId": "ba17e56e-bc31-496f-d6e8-bbcfeb970068"
      },
      "execution_count": null,
      "outputs": [
        {
          "output_type": "stream",
          "name": "stdout",
          "text": [
            "1\n",
            "2\n",
            "3\n",
            "4\n",
            "5\n",
            "6\n",
            "7\n",
            "8\n",
            "9\n",
            "10\n"
          ]
        }
      ]
    },
    {
      "cell_type": "code",
      "source": [
        "sum  =0\n",
        "for i in range (1,10+1):\n",
        "  sum = sum + i\n",
        "print(sum)"
      ],
      "metadata": {
        "id": "CGiyrbssE_kW",
        "colab": {
          "base_uri": "https://localhost:8080/"
        },
        "outputId": "1c103c51-6113-4e5a-a61b-568126a73066"
      },
      "execution_count": 10,
      "outputs": [
        {
          "output_type": "stream",
          "name": "stdout",
          "text": [
            "55\n"
          ]
        }
      ]
    },
    {
      "cell_type": "code",
      "source": [
        "sum = 0\n",
        "for i in range(1,5):\n",
        "  sum +=i\n",
        "print(sum)"
      ],
      "metadata": {
        "colab": {
          "base_uri": "https://localhost:8080/"
        },
        "id": "CLbF3VOmHMe5",
        "outputId": "c45b062e-999f-4106-cfdb-562bab6d1eff"
      },
      "execution_count": 19,
      "outputs": [
        {
          "output_type": "stream",
          "name": "stdout",
          "text": [
            "10\n"
          ]
        }
      ]
    },
    {
      "cell_type": "code",
      "source": [
        "sum =4\n",
        "for i in range(1,5):\n",
        "  sum *=i\n",
        "print(sum)"
      ],
      "metadata": {
        "colab": {
          "base_uri": "https://localhost:8080/"
        },
        "id": "QDCehyBIH5g3",
        "outputId": "8ce230af-056c-4355-ea2b-7d63047fef35"
      },
      "execution_count": 21,
      "outputs": [
        {
          "output_type": "stream",
          "name": "stdout",
          "text": [
            "96\n"
          ]
        }
      ]
    },
    {
      "cell_type": "code",
      "source": [
        "num =4\n",
        "for i in range(1,11):\n",
        "  print (\"4*\",i,\"=\",num*i)"
      ],
      "metadata": {
        "colab": {
          "base_uri": "https://localhost:8080/"
        },
        "id": "svNejcYCIrnP",
        "outputId": "15e97bc2-155c-4362-bb70-699d67805b80"
      },
      "execution_count": 24,
      "outputs": [
        {
          "output_type": "stream",
          "name": "stdout",
          "text": [
            "4* 1 = 4\n",
            "4* 2 = 8\n",
            "4* 3 = 12\n",
            "4* 4 = 16\n",
            "4* 5 = 20\n",
            "4* 6 = 24\n",
            "4* 7 = 28\n",
            "4* 8 = 32\n",
            "4* 9 = 36\n",
            "4* 10 = 40\n"
          ]
        }
      ]
    },
    {
      "cell_type": "code",
      "source": [
        "for i in range (2,101,2):\n",
        "  print(i,end=\" \")"
      ],
      "metadata": {
        "colab": {
          "base_uri": "https://localhost:8080/"
        },
        "id": "rqjHSEI2Jjhe",
        "outputId": "6371b069-3f21-455f-bed8-d0664754bb6b"
      },
      "execution_count": 25,
      "outputs": [
        {
          "output_type": "stream",
          "name": "stdout",
          "text": [
            "2 4 6 8 10 12 14 16 18 20 22 24 26 28 30 32 34 36 38 40 42 44 46 48 50 52 54 56 58 60 62 64 66 68 70 72 74 76 78 80 82 84 86 88 90 92 94 96 98 100 "
          ]
        }
      ]
    },
    {
      "cell_type": "code",
      "source": [
        "fact = 1\n",
        "for i in range (1,6):\n",
        "  fact = fact * i\n",
        "print(fact)"
      ],
      "metadata": {
        "colab": {
          "base_uri": "https://localhost:8080/"
        },
        "id": "sX1pFrUmL_uv",
        "outputId": "2c5e0222-7f41-4c48-83af-ef722950d402"
      },
      "execution_count": 26,
      "outputs": [
        {
          "output_type": "stream",
          "name": "stdout",
          "text": [
            "120\n"
          ]
        }
      ]
    },
    {
      "cell_type": "code",
      "source": [
        "# fiboncacci series / number using for loop\n",
        "# 0 1 1 2 3 5 8 13 21 34 55 89 144\n",
        "a, b = 0, 1\n",
        "for i in range(1,14):\n",
        "  print(a,end=\" \")\n",
        "  a, b = b,a+b"
      ],
      "metadata": {
        "colab": {
          "base_uri": "https://localhost:8080/"
        },
        "id": "_GZcwXMuMWYu",
        "outputId": "ccb7d60c-52ed-4024-ac7d-e559cc724f22"
      },
      "execution_count": 30,
      "outputs": [
        {
          "output_type": "stream",
          "name": "stdout",
          "text": [
            "0 1 1 2 3 5 8 13 21 34 55 89 144 "
          ]
        }
      ]
    },
    {
      "cell_type": "code",
      "source": [
        ""
      ],
      "metadata": {
        "id": "f0XNohK8KRDH"
      },
      "execution_count": 25,
      "outputs": []
    }
  ]
}